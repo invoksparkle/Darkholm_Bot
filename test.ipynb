{
 "cells": [
  {
   "cell_type": "code",
   "execution_count": 1,
   "metadata": {},
   "outputs": [
    {
     "output_type": "stream",
     "name": "stdout",
     "text": [
      "Requirement already satisfied: nest_asyncio in c:\\users\\glyco\\appdata\\local\\programs\\python\\python39\\lib\\site-packages (1.5.1)\n"
     ]
    }
   ],
   "source": [
    "!pip install nest_asyncio \n",
    "import nest_asyncio \n",
    "nest_asyncio.apply()"
   ]
  },
  {
   "cell_type": "code",
   "execution_count": 2,
   "metadata": {},
   "outputs": [],
   "source": [
    "##Импорты\n",
    "import os\n",
    "import discord\n",
    "from discord import FFmpegPCMAudio\n",
    "from discord.ext import commands, tasks\n",
    "from config import settings\n",
    "import youtube_dl\n",
    "import ffmpeg\n",
    "import asyncio\n",
    "from ipykernel.eventloops import register_integration\n",
    " "
   ]
  },
  {
   "cell_type": "code",
   "execution_count": 3,
   "metadata": {},
   "outputs": [],
   "source": [
    "bot = commands.Bot(command_prefix= settings['prefix'])\n",
    "@bot.event\n",
    "async def on_ready():\n",
    "    print('Logged in as')\n",
    "    print(bot.user.name)\n",
    "    print(bot.user.id)\n",
    "    print('------')\n",
    "    print(bot.guilds)\n",
    "\n",
    "@bot.command(aliases=['Привет', 'привет'])\n",
    "async def hello(ctx):\n",
    "    author = ctx.message.author\n",
    "    await ctx.send(f'Привет Дружок-пирожок, {author.mention}! Ты ошибся дверью')\n",
    "\n",
    "@bot.command()\n",
    "async def load(ctx, extension):\n",
    "    if ctx.author.id == 510786265311084544:\n",
    "        bot.load_extension(f\"cogs.{extension}\")\n",
    "\n",
    "@bot.command()\n",
    "async def reload(ctx, extension):\n",
    "    if ctx.author.id == 510786265311084544:\n",
    "        bot.reload_extension(f\"cogs.{extension}\")\n",
    "\n",
    "@bot.command(aliases=['подземелье'])\n",
    "async def dangeon(ctx):\n",
    "    await ctx.send(\"Начинаем сбор для посещения Deep Dark Dangeon\")\n",
    "    online_members = list(filter(filterOnline, ctx.guild.members))\n",
    "    while len(online_members) > 4:\n",
    "        del online_members[random.randint(0,len(online_members)-1)]  \n",
    "\n",
    "    online_mentions = ''\n",
    "    for member in online_members:\n",
    "        online_mentions = online_mentions + ' ' + member.mention\n",
    "    await ctx.send(f\"В данжен пойдут {online_mentions}\" )\n",
    "    avatars = []\n",
    "        #for member in online_members:\n",
    "        #    user = discord.utils.get(discord.member, id=member.id)\n"
   ]
  },
  {
   "cell_type": "code",
   "execution_count": 4,
   "metadata": {},
   "outputs": [],
   "source": [
    "def filterOnline(member):\n",
    "    return member.status != 'offline'and member.bot != True;"
   ]
  },
  {
   "cell_type": "code",
   "execution_count": null,
   "metadata": {},
   "outputs": [],
   "source": [
    "\n",
    "bot.run(settings['token'])"
   ]
  },
  {
   "cell_type": "code",
   "execution_count": null,
   "metadata": {},
   "outputs": [],
   "source": []
  }
 ],
 "metadata": {
  "kernelspec": {
   "name": "python3",
   "display_name": "Python 3.9.2 64-bit",
   "metadata": {
    "interpreter": {
     "hash": "431bf35ebd389b65fdcd8c2eea841831d18cec6fd68cc1d6bcdb1a842d2159d3"
    }
   }
  },
  "language_info": {
   "codemirror_mode": {
    "name": "ipython",
    "version": 3
   },
   "file_extension": ".py",
   "mimetype": "text/x-python",
   "name": "python",
   "nbconvert_exporter": "python",
   "pygments_lexer": "ipython3",
   "version": "3.9.2-final"
  }
 },
 "nbformat": 4,
 "nbformat_minor": 4
}